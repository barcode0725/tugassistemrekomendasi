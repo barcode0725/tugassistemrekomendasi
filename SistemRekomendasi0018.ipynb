{
  "cells": [
    {
      "cell_type": "markdown",
      "metadata": {
        "id": "view-in-github",
        "colab_type": "text"
      },
      "source": [
        "<a href=\"https://colab.research.google.com/github/barcode0725/tugassistemrekomendasi/blob/main/SistemRekomendasi0018.ipynb\" target=\"_parent\"><img src=\"https://colab.research.google.com/assets/colab-badge.svg\" alt=\"Open In Colab\"/></a>"
      ]
    },
    {
      "cell_type": "markdown",
      "metadata": {
        "id": "C5S6Edrm32az"
      },
      "source": [
        "# Content Based Filtering : Rekomendasi Modul Pembelajaran Dari Program Magang Dan Studi Independen Kampus Merdeka"
      ]
    },
    {
      "cell_type": "code",
      "execution_count": null,
      "metadata": {
        "id": "CQTYgDVB32bA",
        "outputId": "b9141999-a713-458d-aada-91bd0bd4c9f7",
        "colab": {
          "base_uri": "https://localhost:8080/",
          "height": 206
        }
      },
      "outputs": [
        {
          "output_type": "execute_result",
          "data": {
            "text/plain": [
              "                                   Mitra  \\\n",
              "0                   Dwi Rahma Firmansyah   \n",
              "1  PT. IlmuKomputerCom Braindevs Sistema   \n",
              "2                   PT Sembilan Matahari   \n",
              "3      PT Telkom Indonesia (Persero) Tbk   \n",
              "4    PT Abbauf Mulia Konsultan Teknologi   \n",
              "\n",
              "                                              Alamat  \\\n",
              "0               Jln Rorojonggrang Timur VIII RT9 RW9   \n",
              "1  Menara Bidakara 1 Lantai 2, Jl. Gatot Subroto ...   \n",
              "2  Jl. Muararajeun No. 26 RT 005 RW 011, Cihaurge...   \n",
              "3                               Jl Japati 1, Bandung   \n",
              "4  APL Tower Central Park Lantai 19 Unit T7, Jl. ...   \n",
              "\n",
              "                                               Modul  \n",
              "0  Implementasi Basis Data Web Service Sistem Bas...  \n",
              "1  Critical Thinking Team Work Communication Skil...  \n",
              "2  Kemampuan Management Data Asset Pencarian refe...  \n",
              "3  Content Review Job Performance Strategic Commu...  \n",
              "4  Memonitoring Kerjasama Kerjasama Tim Secara Di...  "
            ],
            "text/html": [
              "\n",
              "  <div id=\"df-be75235c-438f-4534-a12d-23cd6601e42e\">\n",
              "    <div class=\"colab-df-container\">\n",
              "      <div>\n",
              "<style scoped>\n",
              "    .dataframe tbody tr th:only-of-type {\n",
              "        vertical-align: middle;\n",
              "    }\n",
              "\n",
              "    .dataframe tbody tr th {\n",
              "        vertical-align: top;\n",
              "    }\n",
              "\n",
              "    .dataframe thead th {\n",
              "        text-align: right;\n",
              "    }\n",
              "</style>\n",
              "<table border=\"1\" class=\"dataframe\">\n",
              "  <thead>\n",
              "    <tr style=\"text-align: right;\">\n",
              "      <th></th>\n",
              "      <th>Mitra</th>\n",
              "      <th>Alamat</th>\n",
              "      <th>Modul</th>\n",
              "    </tr>\n",
              "  </thead>\n",
              "  <tbody>\n",
              "    <tr>\n",
              "      <th>0</th>\n",
              "      <td>Dwi Rahma Firmansyah</td>\n",
              "      <td>Jln Rorojonggrang Timur VIII RT9 RW9</td>\n",
              "      <td>Implementasi Basis Data Web Service Sistem Bas...</td>\n",
              "    </tr>\n",
              "    <tr>\n",
              "      <th>1</th>\n",
              "      <td>PT. IlmuKomputerCom Braindevs Sistema</td>\n",
              "      <td>Menara Bidakara 1 Lantai 2, Jl. Gatot Subroto ...</td>\n",
              "      <td>Critical Thinking Team Work Communication Skil...</td>\n",
              "    </tr>\n",
              "    <tr>\n",
              "      <th>2</th>\n",
              "      <td>PT Sembilan Matahari</td>\n",
              "      <td>Jl. Muararajeun No. 26 RT 005 RW 011, Cihaurge...</td>\n",
              "      <td>Kemampuan Management Data Asset Pencarian refe...</td>\n",
              "    </tr>\n",
              "    <tr>\n",
              "      <th>3</th>\n",
              "      <td>PT Telkom Indonesia (Persero) Tbk</td>\n",
              "      <td>Jl Japati 1, Bandung</td>\n",
              "      <td>Content Review Job Performance Strategic Commu...</td>\n",
              "    </tr>\n",
              "    <tr>\n",
              "      <th>4</th>\n",
              "      <td>PT Abbauf Mulia Konsultan Teknologi</td>\n",
              "      <td>APL Tower Central Park Lantai 19 Unit T7, Jl. ...</td>\n",
              "      <td>Memonitoring Kerjasama Kerjasama Tim Secara Di...</td>\n",
              "    </tr>\n",
              "  </tbody>\n",
              "</table>\n",
              "</div>\n",
              "      <button class=\"colab-df-convert\" onclick=\"convertToInteractive('df-be75235c-438f-4534-a12d-23cd6601e42e')\"\n",
              "              title=\"Convert this dataframe to an interactive table.\"\n",
              "              style=\"display:none;\">\n",
              "        \n",
              "  <svg xmlns=\"http://www.w3.org/2000/svg\" height=\"24px\"viewBox=\"0 0 24 24\"\n",
              "       width=\"24px\">\n",
              "    <path d=\"M0 0h24v24H0V0z\" fill=\"none\"/>\n",
              "    <path d=\"M18.56 5.44l.94 2.06.94-2.06 2.06-.94-2.06-.94-.94-2.06-.94 2.06-2.06.94zm-11 1L8.5 8.5l.94-2.06 2.06-.94-2.06-.94L8.5 2.5l-.94 2.06-2.06.94zm10 10l.94 2.06.94-2.06 2.06-.94-2.06-.94-.94-2.06-.94 2.06-2.06.94z\"/><path d=\"M17.41 7.96l-1.37-1.37c-.4-.4-.92-.59-1.43-.59-.52 0-1.04.2-1.43.59L10.3 9.45l-7.72 7.72c-.78.78-.78 2.05 0 2.83L4 21.41c.39.39.9.59 1.41.59.51 0 1.02-.2 1.41-.59l7.78-7.78 2.81-2.81c.8-.78.8-2.07 0-2.86zM5.41 20L4 18.59l7.72-7.72 1.47 1.35L5.41 20z\"/>\n",
              "  </svg>\n",
              "      </button>\n",
              "      \n",
              "  <style>\n",
              "    .colab-df-container {\n",
              "      display:flex;\n",
              "      flex-wrap:wrap;\n",
              "      gap: 12px;\n",
              "    }\n",
              "\n",
              "    .colab-df-convert {\n",
              "      background-color: #E8F0FE;\n",
              "      border: none;\n",
              "      border-radius: 50%;\n",
              "      cursor: pointer;\n",
              "      display: none;\n",
              "      fill: #1967D2;\n",
              "      height: 32px;\n",
              "      padding: 0 0 0 0;\n",
              "      width: 32px;\n",
              "    }\n",
              "\n",
              "    .colab-df-convert:hover {\n",
              "      background-color: #E2EBFA;\n",
              "      box-shadow: 0px 1px 2px rgba(60, 64, 67, 0.3), 0px 1px 3px 1px rgba(60, 64, 67, 0.15);\n",
              "      fill: #174EA6;\n",
              "    }\n",
              "\n",
              "    [theme=dark] .colab-df-convert {\n",
              "      background-color: #3B4455;\n",
              "      fill: #D2E3FC;\n",
              "    }\n",
              "\n",
              "    [theme=dark] .colab-df-convert:hover {\n",
              "      background-color: #434B5C;\n",
              "      box-shadow: 0px 1px 3px 1px rgba(0, 0, 0, 0.15);\n",
              "      filter: drop-shadow(0px 1px 2px rgba(0, 0, 0, 0.3));\n",
              "      fill: #FFFFFF;\n",
              "    }\n",
              "  </style>\n",
              "\n",
              "      <script>\n",
              "        const buttonEl =\n",
              "          document.querySelector('#df-be75235c-438f-4534-a12d-23cd6601e42e button.colab-df-convert');\n",
              "        buttonEl.style.display =\n",
              "          google.colab.kernel.accessAllowed ? 'block' : 'none';\n",
              "\n",
              "        async function convertToInteractive(key) {\n",
              "          const element = document.querySelector('#df-be75235c-438f-4534-a12d-23cd6601e42e');\n",
              "          const dataTable =\n",
              "            await google.colab.kernel.invokeFunction('convertToInteractive',\n",
              "                                                     [key], {});\n",
              "          if (!dataTable) return;\n",
              "\n",
              "          const docLinkHtml = 'Like what you see? Visit the ' +\n",
              "            '<a target=\"_blank\" href=https://colab.research.google.com/notebooks/data_table.ipynb>data table notebook</a>'\n",
              "            + ' to learn more about interactive tables.';\n",
              "          element.innerHTML = '';\n",
              "          dataTable['output_type'] = 'display_data';\n",
              "          await google.colab.output.renderOutput(dataTable, element);\n",
              "          const docLink = document.createElement('div');\n",
              "          docLink.innerHTML = docLinkHtml;\n",
              "          element.appendChild(docLink);\n",
              "        }\n",
              "      </script>\n",
              "    </div>\n",
              "  </div>\n",
              "  "
            ]
          },
          "metadata": {},
          "execution_count": 1
        }
      ],
      "source": [
        "import pandas as pd\n",
        "import numpy as np\n",
        "from sklearn.metrics.pairwise import cosine_similarity\n",
        "from sklearn.feature_extraction.text import TfidfVectorizer\n",
        "from nltk.corpus import stopwords\n",
        "import re\n",
        "import random\n",
        "\n",
        "df = pd.read_csv(\"https://raw.githubusercontent.com/barcode0725/tugassistemrekomendasi/main/a.csv\")\n",
        "df.head()"
      ]
    },
    {
      "cell_type": "markdown",
      "metadata": {
        "id": "IWDjJ4eE32bJ"
      },
      "source": [
        "## 1. Ikhtisar"
      ]
    },
    {
      "cell_type": "code",
      "execution_count": null,
      "metadata": {
        "id": "z7pBCYcs32bL",
        "outputId": "25be5a65-2722-414a-a2bc-1b396d1b031f",
        "colab": {
          "base_uri": "https://localhost:8080/",
          "height": 175
        }
      },
      "outputs": [
        {
          "output_type": "execute_result",
          "data": {
            "text/plain": [
              "                       Mitra                                Alamat  \\\n",
              "count                     13                                    13   \n",
              "unique                    13                                    13   \n",
              "top     Dwi Rahma Firmansyah  Jln Rorojonggrang Timur VIII RT9 RW9   \n",
              "freq                       1                                     1   \n",
              "\n",
              "                                                    Modul  \n",
              "count                                                  13  \n",
              "unique                                                 13  \n",
              "top     Implementasi Basis Data Web Service Sistem Bas...  \n",
              "freq                                                    1  "
            ],
            "text/html": [
              "\n",
              "  <div id=\"df-d4d381cb-0cc0-4177-85a6-70b194af802b\">\n",
              "    <div class=\"colab-df-container\">\n",
              "      <div>\n",
              "<style scoped>\n",
              "    .dataframe tbody tr th:only-of-type {\n",
              "        vertical-align: middle;\n",
              "    }\n",
              "\n",
              "    .dataframe tbody tr th {\n",
              "        vertical-align: top;\n",
              "    }\n",
              "\n",
              "    .dataframe thead th {\n",
              "        text-align: right;\n",
              "    }\n",
              "</style>\n",
              "<table border=\"1\" class=\"dataframe\">\n",
              "  <thead>\n",
              "    <tr style=\"text-align: right;\">\n",
              "      <th></th>\n",
              "      <th>Mitra</th>\n",
              "      <th>Alamat</th>\n",
              "      <th>Modul</th>\n",
              "    </tr>\n",
              "  </thead>\n",
              "  <tbody>\n",
              "    <tr>\n",
              "      <th>count</th>\n",
              "      <td>13</td>\n",
              "      <td>13</td>\n",
              "      <td>13</td>\n",
              "    </tr>\n",
              "    <tr>\n",
              "      <th>unique</th>\n",
              "      <td>13</td>\n",
              "      <td>13</td>\n",
              "      <td>13</td>\n",
              "    </tr>\n",
              "    <tr>\n",
              "      <th>top</th>\n",
              "      <td>Dwi Rahma Firmansyah</td>\n",
              "      <td>Jln Rorojonggrang Timur VIII RT9 RW9</td>\n",
              "      <td>Implementasi Basis Data Web Service Sistem Bas...</td>\n",
              "    </tr>\n",
              "    <tr>\n",
              "      <th>freq</th>\n",
              "      <td>1</td>\n",
              "      <td>1</td>\n",
              "      <td>1</td>\n",
              "    </tr>\n",
              "  </tbody>\n",
              "</table>\n",
              "</div>\n",
              "      <button class=\"colab-df-convert\" onclick=\"convertToInteractive('df-d4d381cb-0cc0-4177-85a6-70b194af802b')\"\n",
              "              title=\"Convert this dataframe to an interactive table.\"\n",
              "              style=\"display:none;\">\n",
              "        \n",
              "  <svg xmlns=\"http://www.w3.org/2000/svg\" height=\"24px\"viewBox=\"0 0 24 24\"\n",
              "       width=\"24px\">\n",
              "    <path d=\"M0 0h24v24H0V0z\" fill=\"none\"/>\n",
              "    <path d=\"M18.56 5.44l.94 2.06.94-2.06 2.06-.94-2.06-.94-.94-2.06-.94 2.06-2.06.94zm-11 1L8.5 8.5l.94-2.06 2.06-.94-2.06-.94L8.5 2.5l-.94 2.06-2.06.94zm10 10l.94 2.06.94-2.06 2.06-.94-2.06-.94-.94-2.06-.94 2.06-2.06.94z\"/><path d=\"M17.41 7.96l-1.37-1.37c-.4-.4-.92-.59-1.43-.59-.52 0-1.04.2-1.43.59L10.3 9.45l-7.72 7.72c-.78.78-.78 2.05 0 2.83L4 21.41c.39.39.9.59 1.41.59.51 0 1.02-.2 1.41-.59l7.78-7.78 2.81-2.81c.8-.78.8-2.07 0-2.86zM5.41 20L4 18.59l7.72-7.72 1.47 1.35L5.41 20z\"/>\n",
              "  </svg>\n",
              "      </button>\n",
              "      \n",
              "  <style>\n",
              "    .colab-df-container {\n",
              "      display:flex;\n",
              "      flex-wrap:wrap;\n",
              "      gap: 12px;\n",
              "    }\n",
              "\n",
              "    .colab-df-convert {\n",
              "      background-color: #E8F0FE;\n",
              "      border: none;\n",
              "      border-radius: 50%;\n",
              "      cursor: pointer;\n",
              "      display: none;\n",
              "      fill: #1967D2;\n",
              "      height: 32px;\n",
              "      padding: 0 0 0 0;\n",
              "      width: 32px;\n",
              "    }\n",
              "\n",
              "    .colab-df-convert:hover {\n",
              "      background-color: #E2EBFA;\n",
              "      box-shadow: 0px 1px 2px rgba(60, 64, 67, 0.3), 0px 1px 3px 1px rgba(60, 64, 67, 0.15);\n",
              "      fill: #174EA6;\n",
              "    }\n",
              "\n",
              "    [theme=dark] .colab-df-convert {\n",
              "      background-color: #3B4455;\n",
              "      fill: #D2E3FC;\n",
              "    }\n",
              "\n",
              "    [theme=dark] .colab-df-convert:hover {\n",
              "      background-color: #434B5C;\n",
              "      box-shadow: 0px 1px 3px 1px rgba(0, 0, 0, 0.15);\n",
              "      filter: drop-shadow(0px 1px 2px rgba(0, 0, 0, 0.3));\n",
              "      fill: #FFFFFF;\n",
              "    }\n",
              "  </style>\n",
              "\n",
              "      <script>\n",
              "        const buttonEl =\n",
              "          document.querySelector('#df-d4d381cb-0cc0-4177-85a6-70b194af802b button.colab-df-convert');\n",
              "        buttonEl.style.display =\n",
              "          google.colab.kernel.accessAllowed ? 'block' : 'none';\n",
              "\n",
              "        async function convertToInteractive(key) {\n",
              "          const element = document.querySelector('#df-d4d381cb-0cc0-4177-85a6-70b194af802b');\n",
              "          const dataTable =\n",
              "            await google.colab.kernel.invokeFunction('convertToInteractive',\n",
              "                                                     [key], {});\n",
              "          if (!dataTable) return;\n",
              "\n",
              "          const docLinkHtml = 'Like what you see? Visit the ' +\n",
              "            '<a target=\"_blank\" href=https://colab.research.google.com/notebooks/data_table.ipynb>data table notebook</a>'\n",
              "            + ' to learn more about interactive tables.';\n",
              "          element.innerHTML = '';\n",
              "          dataTable['output_type'] = 'display_data';\n",
              "          await google.colab.output.renderOutput(dataTable, element);\n",
              "          const docLink = document.createElement('div');\n",
              "          docLink.innerHTML = docLinkHtml;\n",
              "          element.appendChild(docLink);\n",
              "        }\n",
              "      </script>\n",
              "    </div>\n",
              "  </div>\n",
              "  "
            ]
          },
          "metadata": {},
          "execution_count": 2
        }
      ],
      "source": [
        "df.describe()"
      ]
    },
    {
      "cell_type": "code",
      "execution_count": null,
      "metadata": {
        "id": "oL9tFlqN32bN",
        "outputId": "4961f44c-6757-45e0-def2-0b15c65dc4ff",
        "colab": {
          "base_uri": "https://localhost:8080/"
        }
      },
      "outputs": [
        {
          "output_type": "stream",
          "name": "stdout",
          "text": [
            "<class 'pandas.core.frame.DataFrame'>\n",
            "RangeIndex: 13 entries, 0 to 12\n",
            "Data columns (total 3 columns):\n",
            " #   Column  Non-Null Count  Dtype \n",
            "---  ------  --------------  ----- \n",
            " 0   Mitra   13 non-null     object\n",
            " 1   Alamat  13 non-null     object\n",
            " 2   Modul   13 non-null     object\n",
            "dtypes: object(3)\n",
            "memory usage: 440.0+ bytes\n"
          ]
        }
      ],
      "source": [
        "df.info()"
      ]
    },
    {
      "cell_type": "markdown",
      "metadata": {
        "id": "BGMxSgpx32bP"
      },
      "source": [
        "## 2. Tampilan Modul Pembelajaran (Sebelum Preprocessing)"
      ]
    },
    {
      "cell_type": "code",
      "execution_count": null,
      "metadata": {
        "id": "-IvjAXg532bR"
      },
      "outputs": [],
      "source": [
        "def print_description(index):\n",
        "    example = df[df.index == index][['Modul', 'Mitra','Alamat']].values[0]\n",
        "    if len(example) > 0:\n",
        "        print(example[0])\n",
        "        print('Mitra:', example[1])\n",
        "        print('Alamat:', example[2])"
      ]
    },
    {
      "cell_type": "code",
      "execution_count": null,
      "metadata": {
        "id": "Jjz6KQFT32bT",
        "outputId": "72deae7b-6050-4d9f-812d-58accbd3f4ae",
        "colab": {
          "base_uri": "https://localhost:8080/"
        }
      },
      "outputs": [
        {
          "output_type": "stream",
          "name": "stdout",
          "text": [
            "Critical Thinking Team Work Communication Skills Time Management Requirement Analysis\n",
            "Mitra: PT. IlmuKomputerCom Braindevs Sistema\n",
            "Alamat: Menara Bidakara 1 Lantai 2, Jl. Gatot Subroto Kav. 71-73 Pancoran Jakarta Selatan 12870\n"
          ]
        }
      ],
      "source": [
        "print_description(1)"
      ]
    },
    {
      "cell_type": "code",
      "execution_count": null,
      "metadata": {
        "id": "AtOC-O4z32bV",
        "outputId": "5c7f8d60-297b-4d4e-b4b1-5471976bfc2a",
        "colab": {
          "base_uri": "https://localhost:8080/"
        }
      },
      "outputs": [
        {
          "output_type": "stream",
          "name": "stdout",
          "text": [
            "Basic Frontend Web Development With HTML & CSS: Memahami penulisan HTML dan penggunaan CSS dalam Web Development dasar\n",
            "Mitra: PT Ruang Raya Indonesia\n",
            "Alamat: l. Dr. Saharjo No.161, Manggarai Selatan, Tebet, Kota Jakarta Selatan, Daerah Khusus Ibukota Jakarta 12860\n"
          ]
        }
      ],
      "source": [
        "print_description(11)"
      ]
    },
    {
      "cell_type": "code",
      "execution_count": null,
      "metadata": {
        "id": "SheyCcRh32bY",
        "outputId": "b2cd142e-3e9c-42a5-e0cf-0e952dc2bde3",
        "colab": {
          "base_uri": "https://localhost:8080/"
        }
      },
      "outputs": [
        {
          "output_type": "stream",
          "name": "stdout",
          "text": [
            "Implementasi Basis Data Web Service Sistem Basis Data Pemrograman Web Jaringan Komputer Sistem Operasi Pemrograman Aplikasi Mobile Text Mining\n",
            "Mitra: Dwi Rahma Firmansyah\n",
            "Alamat: Jln Rorojonggrang Timur VIII RT9 RW9\n"
          ]
        }
      ],
      "source": [
        "print_description(0)"
      ]
    },
    {
      "cell_type": "markdown",
      "metadata": {
        "id": "okT9miie32bb"
      },
      "source": [
        "## 3. Text Preprocessing"
      ]
    },
    {
      "cell_type": "code",
      "source": [
        "import nltk\n",
        "nltk.download('stopwords')\n",
        "clean_spcl = re.compile('[/(){}\\[\\]\\|@,;]')\n",
        "clean_symbol = re.compile('[^0-9a-z #+_]')\n",
        "#stopworda = set(stopwords.words('english'))\n",
        "\n",
        "def clean_text(text):\n",
        "    \"\"\"\n",
        "        text: a string\n",
        "        \n",
        "        return: modified initial string\n",
        "    \"\"\"\n",
        "    text = text.lower() # lowercase text\n",
        "    text = clean_spcl.sub(' ', text)\n",
        "    text = clean_symbol.sub('', text)\n",
        "    #text = ' '.join(word for word in text.split() if word not in stopworda) # hapus stopword dari kolom deskripsi\n",
        "    return text\n",
        "    \n",
        "df['modul_pembelajaran_clean'] = df['Modul'].apply(clean_text)"
      ],
      "metadata": {
        "colab": {
          "base_uri": "https://localhost:8080/"
        },
        "id": "2sZhO5YF6Qn7",
        "outputId": "05109736-e982-4b7b-97c7-50f61cb5fecc"
      },
      "execution_count": null,
      "outputs": [
        {
          "output_type": "stream",
          "name": "stderr",
          "text": [
            "[nltk_data] Downloading package stopwords to /root/nltk_data...\n",
            "[nltk_data]   Unzipping corpora/stopwords.zip.\n"
          ]
        }
      ]
    },
    {
      "cell_type": "code",
      "execution_count": null,
      "metadata": {
        "id": "B2uXpInK32bf",
        "outputId": "7986b84a-7014-4b22-da32-4e3214164b6e",
        "colab": {
          "base_uri": "https://localhost:8080/",
          "height": 337
        }
      },
      "outputs": [
        {
          "output_type": "execute_result",
          "data": {
            "text/plain": [
              "                                   Mitra  \\\n",
              "0                   Dwi Rahma Firmansyah   \n",
              "1  PT. IlmuKomputerCom Braindevs Sistema   \n",
              "2                   PT Sembilan Matahari   \n",
              "3      PT Telkom Indonesia (Persero) Tbk   \n",
              "4    PT Abbauf Mulia Konsultan Teknologi   \n",
              "\n",
              "                                              Alamat  \\\n",
              "0               Jln Rorojonggrang Timur VIII RT9 RW9   \n",
              "1  Menara Bidakara 1 Lantai 2, Jl. Gatot Subroto ...   \n",
              "2  Jl. Muararajeun No. 26 RT 005 RW 011, Cihaurge...   \n",
              "3                               Jl Japati 1, Bandung   \n",
              "4  APL Tower Central Park Lantai 19 Unit T7, Jl. ...   \n",
              "\n",
              "                                               Modul  \\\n",
              "0  Implementasi Basis Data Web Service Sistem Bas...   \n",
              "1  Critical Thinking Team Work Communication Skil...   \n",
              "2  Kemampuan Management Data Asset Pencarian refe...   \n",
              "3  Content Review Job Performance Strategic Commu...   \n",
              "4  Memonitoring Kerjasama Kerjasama Tim Secara Di...   \n",
              "\n",
              "                            modul_pembelajaran_clean  \n",
              "0  implementasi basis data web service sistem bas...  \n",
              "1  critical thinking team work communication skil...  \n",
              "2  kemampuan management data asset pencarian refe...  \n",
              "3  content review job performance strategic commu...  \n",
              "4  memonitoring kerjasama kerjasama tim secara di...  "
            ],
            "text/html": [
              "\n",
              "  <div id=\"df-cfc454f8-333a-4535-a5d4-5ca98b29ee7a\">\n",
              "    <div class=\"colab-df-container\">\n",
              "      <div>\n",
              "<style scoped>\n",
              "    .dataframe tbody tr th:only-of-type {\n",
              "        vertical-align: middle;\n",
              "    }\n",
              "\n",
              "    .dataframe tbody tr th {\n",
              "        vertical-align: top;\n",
              "    }\n",
              "\n",
              "    .dataframe thead th {\n",
              "        text-align: right;\n",
              "    }\n",
              "</style>\n",
              "<table border=\"1\" class=\"dataframe\">\n",
              "  <thead>\n",
              "    <tr style=\"text-align: right;\">\n",
              "      <th></th>\n",
              "      <th>Mitra</th>\n",
              "      <th>Alamat</th>\n",
              "      <th>Modul</th>\n",
              "      <th>modul_pembelajaran_clean</th>\n",
              "    </tr>\n",
              "  </thead>\n",
              "  <tbody>\n",
              "    <tr>\n",
              "      <th>0</th>\n",
              "      <td>Dwi Rahma Firmansyah</td>\n",
              "      <td>Jln Rorojonggrang Timur VIII RT9 RW9</td>\n",
              "      <td>Implementasi Basis Data Web Service Sistem Bas...</td>\n",
              "      <td>implementasi basis data web service sistem bas...</td>\n",
              "    </tr>\n",
              "    <tr>\n",
              "      <th>1</th>\n",
              "      <td>PT. IlmuKomputerCom Braindevs Sistema</td>\n",
              "      <td>Menara Bidakara 1 Lantai 2, Jl. Gatot Subroto ...</td>\n",
              "      <td>Critical Thinking Team Work Communication Skil...</td>\n",
              "      <td>critical thinking team work communication skil...</td>\n",
              "    </tr>\n",
              "    <tr>\n",
              "      <th>2</th>\n",
              "      <td>PT Sembilan Matahari</td>\n",
              "      <td>Jl. Muararajeun No. 26 RT 005 RW 011, Cihaurge...</td>\n",
              "      <td>Kemampuan Management Data Asset Pencarian refe...</td>\n",
              "      <td>kemampuan management data asset pencarian refe...</td>\n",
              "    </tr>\n",
              "    <tr>\n",
              "      <th>3</th>\n",
              "      <td>PT Telkom Indonesia (Persero) Tbk</td>\n",
              "      <td>Jl Japati 1, Bandung</td>\n",
              "      <td>Content Review Job Performance Strategic Commu...</td>\n",
              "      <td>content review job performance strategic commu...</td>\n",
              "    </tr>\n",
              "    <tr>\n",
              "      <th>4</th>\n",
              "      <td>PT Abbauf Mulia Konsultan Teknologi</td>\n",
              "      <td>APL Tower Central Park Lantai 19 Unit T7, Jl. ...</td>\n",
              "      <td>Memonitoring Kerjasama Kerjasama Tim Secara Di...</td>\n",
              "      <td>memonitoring kerjasama kerjasama tim secara di...</td>\n",
              "    </tr>\n",
              "  </tbody>\n",
              "</table>\n",
              "</div>\n",
              "      <button class=\"colab-df-convert\" onclick=\"convertToInteractive('df-cfc454f8-333a-4535-a5d4-5ca98b29ee7a')\"\n",
              "              title=\"Convert this dataframe to an interactive table.\"\n",
              "              style=\"display:none;\">\n",
              "        \n",
              "  <svg xmlns=\"http://www.w3.org/2000/svg\" height=\"24px\"viewBox=\"0 0 24 24\"\n",
              "       width=\"24px\">\n",
              "    <path d=\"M0 0h24v24H0V0z\" fill=\"none\"/>\n",
              "    <path d=\"M18.56 5.44l.94 2.06.94-2.06 2.06-.94-2.06-.94-.94-2.06-.94 2.06-2.06.94zm-11 1L8.5 8.5l.94-2.06 2.06-.94-2.06-.94L8.5 2.5l-.94 2.06-2.06.94zm10 10l.94 2.06.94-2.06 2.06-.94-2.06-.94-.94-2.06-.94 2.06-2.06.94z\"/><path d=\"M17.41 7.96l-1.37-1.37c-.4-.4-.92-.59-1.43-.59-.52 0-1.04.2-1.43.59L10.3 9.45l-7.72 7.72c-.78.78-.78 2.05 0 2.83L4 21.41c.39.39.9.59 1.41.59.51 0 1.02-.2 1.41-.59l7.78-7.78 2.81-2.81c.8-.78.8-2.07 0-2.86zM5.41 20L4 18.59l7.72-7.72 1.47 1.35L5.41 20z\"/>\n",
              "  </svg>\n",
              "      </button>\n",
              "      \n",
              "  <style>\n",
              "    .colab-df-container {\n",
              "      display:flex;\n",
              "      flex-wrap:wrap;\n",
              "      gap: 12px;\n",
              "    }\n",
              "\n",
              "    .colab-df-convert {\n",
              "      background-color: #E8F0FE;\n",
              "      border: none;\n",
              "      border-radius: 50%;\n",
              "      cursor: pointer;\n",
              "      display: none;\n",
              "      fill: #1967D2;\n",
              "      height: 32px;\n",
              "      padding: 0 0 0 0;\n",
              "      width: 32px;\n",
              "    }\n",
              "\n",
              "    .colab-df-convert:hover {\n",
              "      background-color: #E2EBFA;\n",
              "      box-shadow: 0px 1px 2px rgba(60, 64, 67, 0.3), 0px 1px 3px 1px rgba(60, 64, 67, 0.15);\n",
              "      fill: #174EA6;\n",
              "    }\n",
              "\n",
              "    [theme=dark] .colab-df-convert {\n",
              "      background-color: #3B4455;\n",
              "      fill: #D2E3FC;\n",
              "    }\n",
              "\n",
              "    [theme=dark] .colab-df-convert:hover {\n",
              "      background-color: #434B5C;\n",
              "      box-shadow: 0px 1px 3px 1px rgba(0, 0, 0, 0.15);\n",
              "      filter: drop-shadow(0px 1px 2px rgba(0, 0, 0, 0.3));\n",
              "      fill: #FFFFFF;\n",
              "    }\n",
              "  </style>\n",
              "\n",
              "      <script>\n",
              "        const buttonEl =\n",
              "          document.querySelector('#df-cfc454f8-333a-4535-a5d4-5ca98b29ee7a button.colab-df-convert');\n",
              "        buttonEl.style.display =\n",
              "          google.colab.kernel.accessAllowed ? 'block' : 'none';\n",
              "\n",
              "        async function convertToInteractive(key) {\n",
              "          const element = document.querySelector('#df-cfc454f8-333a-4535-a5d4-5ca98b29ee7a');\n",
              "          const dataTable =\n",
              "            await google.colab.kernel.invokeFunction('convertToInteractive',\n",
              "                                                     [key], {});\n",
              "          if (!dataTable) return;\n",
              "\n",
              "          const docLinkHtml = 'Like what you see? Visit the ' +\n",
              "            '<a target=\"_blank\" href=https://colab.research.google.com/notebooks/data_table.ipynb>data table notebook</a>'\n",
              "            + ' to learn more about interactive tables.';\n",
              "          element.innerHTML = '';\n",
              "          dataTable['output_type'] = 'display_data';\n",
              "          await google.colab.output.renderOutput(dataTable, element);\n",
              "          const docLink = document.createElement('div');\n",
              "          docLink.innerHTML = docLinkHtml;\n",
              "          element.appendChild(docLink);\n",
              "        }\n",
              "      </script>\n",
              "    </div>\n",
              "  </div>\n",
              "  "
            ]
          },
          "metadata": {},
          "execution_count": 9
        }
      ],
      "source": [
        "df.head()"
      ]
    },
    {
      "cell_type": "markdown",
      "metadata": {
        "id": "PYglDyM432bh"
      },
      "source": [
        "## 4. Tampilan Modul Pembelajaran (Setelah Preprocessing)"
      ]
    },
    {
      "cell_type": "code",
      "execution_count": null,
      "metadata": {
        "id": "29xA_lrv32bi"
      },
      "outputs": [],
      "source": [
        "# Deskripsi kedua (Setelah preprocessing)\n",
        "def print_description_clean(index):\n",
        "    example = df[df.index == index][['modul_pembelajaran_clean', 'Mitra','Alamat']].values[0]\n",
        "    if len(example) > 0:\n",
        "        print(example[0])\n",
        "        print('Mitra:', example[1])\n",
        "        print('Alamat:', example[2])"
      ]
    },
    {
      "cell_type": "code",
      "execution_count": null,
      "metadata": {
        "id": "Ga4U7hER32bk",
        "outputId": "7f5e5038-a1a4-445f-a2e4-f12b10895dee",
        "colab": {
          "base_uri": "https://localhost:8080/"
        }
      },
      "outputs": [
        {
          "output_type": "stream",
          "name": "stdout",
          "text": [
            "critical thinking team work communication skills time management requirement analysis\n",
            "Mitra: PT. IlmuKomputerCom Braindevs Sistema\n",
            "Alamat: Menara Bidakara 1 Lantai 2, Jl. Gatot Subroto Kav. 71-73 Pancoran Jakarta Selatan 12870\n"
          ]
        }
      ],
      "source": [
        "print_description_clean(1)"
      ]
    },
    {
      "cell_type": "code",
      "execution_count": null,
      "metadata": {
        "id": "TvcTeum532bm",
        "outputId": "9be819e7-207f-4a2a-91c0-50c33897ee2e",
        "colab": {
          "base_uri": "https://localhost:8080/"
        }
      },
      "outputs": [
        {
          "output_type": "stream",
          "name": "stdout",
          "text": [
            "basic frontend web development with html  css memahami penulisan html dan penggunaan css dalam web development dasar\n",
            "Mitra: PT Ruang Raya Indonesia\n",
            "Alamat: l. Dr. Saharjo No.161, Manggarai Selatan, Tebet, Kota Jakarta Selatan, Daerah Khusus Ibukota Jakarta 12860\n"
          ]
        }
      ],
      "source": [
        "print_description_clean(11)"
      ]
    },
    {
      "cell_type": "code",
      "execution_count": null,
      "metadata": {
        "id": "CAuiiYHq32bt",
        "outputId": "6b6bd373-dae5-4448-b0a3-7d2c8e57f44c",
        "colab": {
          "base_uri": "https://localhost:8080/"
        }
      },
      "outputs": [
        {
          "output_type": "stream",
          "name": "stdout",
          "text": [
            "Implementasi Basis Data Web Service Sistem Basis Data Pemrograman Web Jaringan Komputer Sistem Operasi Pemrograman Aplikasi Mobile Text Mining\n",
            "Mitra: Dwi Rahma Firmansyah\n",
            "Alamat: Jln Rorojonggrang Timur VIII RT9 RW9\n"
          ]
        }
      ],
      "source": [
        "print_description(0)"
      ]
    },
    {
      "cell_type": "markdown",
      "metadata": {
        "id": "bQIRVwyg32bv"
      },
      "source": [
        "## 5. TF-IDF & Cosine Similarity"
      ]
    },
    {
      "cell_type": "code",
      "execution_count": null,
      "metadata": {
        "scrolled": false,
        "id": "ovYiPsUb32bx",
        "outputId": "a8ca1556-86a3-4914-da7a-6a9fc92c121a",
        "colab": {
          "base_uri": "https://localhost:8080/"
        }
      },
      "outputs": [
        {
          "output_type": "execute_result",
          "data": {
            "text/plain": [
              "array([[1.        , 0.        , 0.02171863, 0.        , 0.        ,\n",
              "        0.        , 0.        , 0.        , 0.        , 0.        ,\n",
              "        0.02947463, 0.0410139 , 0.0224564 ],\n",
              "       [0.        , 1.        , 0.01703802, 0.02251484, 0.        ,\n",
              "        0.        , 0.10007079, 0.        , 0.        , 0.02094631,\n",
              "        0.        , 0.        , 0.        ],\n",
              "       [0.02171863, 0.01703802, 1.        , 0.05220856, 0.13439448,\n",
              "        0.01676363, 0.        , 0.00451357, 0.05657502, 0.        ,\n",
              "        0.00708765, 0.0062711 , 0.        ],\n",
              "       [0.        , 0.02251484, 0.05220856, 1.        , 0.        ,\n",
              "        0.        , 0.01292289, 0.        , 0.        , 0.01302472,\n",
              "        0.        , 0.        , 0.01095437],\n",
              "       [0.        , 0.        , 0.13439448, 0.        , 1.        ,\n",
              "        0.01437944, 0.        , 0.        , 0.        , 0.        ,\n",
              "        0.        , 0.        , 0.        ],\n",
              "       [0.        , 0.        , 0.01676363, 0.        , 0.01437944,\n",
              "        1.        , 0.        , 0.01448779, 0.        , 0.        ,\n",
              "        0.03709208, 0.02012914, 0.01389596],\n",
              "       [0.        , 0.10007079, 0.        , 0.01292289, 0.        ,\n",
              "        0.        , 1.        , 0.        , 0.        , 0.03412528,\n",
              "        0.        , 0.        , 0.01285897],\n",
              "       [0.        , 0.        , 0.00451357, 0.        , 0.        ,\n",
              "        0.01448779, 0.        , 1.        , 0.        , 0.04003726,\n",
              "        0.00612543, 0.0259197 , 0.01122438],\n",
              "       [0.        , 0.        , 0.05657502, 0.        , 0.        ,\n",
              "        0.        , 0.        , 0.        , 1.        , 0.        ,\n",
              "        0.        , 0.01698329, 0.        ],\n",
              "       [0.        , 0.02094631, 0.        , 0.01302472, 0.        ,\n",
              "        0.        , 0.03412528, 0.04003726, 0.        , 1.        ,\n",
              "        0.        , 0.        , 0.01296029],\n",
              "       [0.02947463, 0.        , 0.00708765, 0.        , 0.        ,\n",
              "        0.03709208, 0.        , 0.00612543, 0.        , 0.        ,\n",
              "        1.        , 0.00851058, 0.        ],\n",
              "       [0.0410139 , 0.        , 0.0062711 , 0.        , 0.        ,\n",
              "        0.02012914, 0.        , 0.0259197 , 0.01698329, 0.        ,\n",
              "        0.00851058, 1.        , 0.02452601],\n",
              "       [0.0224564 , 0.        , 0.        , 0.01095437, 0.        ,\n",
              "        0.01389596, 0.01285897, 0.01122438, 0.        , 0.01296029,\n",
              "        0.        , 0.02452601, 1.        ]])"
            ]
          },
          "metadata": {},
          "execution_count": 14
        }
      ],
      "source": [
        "df.set_index('Mitra', inplace=True)\n",
        "tf = TfidfVectorizer(analyzer='word', ngram_range=(1, 3), min_df=0, stop_words='english')\n",
        "tfidf_matrix = tf.fit_transform(df['modul_pembelajaran_clean'])\n",
        "cos_sim = cosine_similarity(tfidf_matrix, tfidf_matrix)\n",
        "cos_sim"
      ]
    },
    {
      "cell_type": "code",
      "execution_count": null,
      "metadata": {
        "id": "AJ7uT1TC32b1",
        "outputId": "a0147174-f005-4fc4-91a9-d7bcbaba6538",
        "colab": {
          "base_uri": "https://localhost:8080/"
        }
      },
      "outputs": [
        {
          "output_type": "execute_result",
          "data": {
            "text/plain": [
              "0                      Dwi Rahma Firmansyah\n",
              "1     PT. IlmuKomputerCom Braindevs Sistema\n",
              "2                      PT Sembilan Matahari\n",
              "3         PT Telkom Indonesia (Persero) Tbk\n",
              "4       PT Abbauf Mulia Konsultan Teknologi\n",
              "5              PT Baracipta Esa Engineering\n",
              "6                   PT Global Tiket Network\n",
              "7              PT Semesta Integrasi Digital\n",
              "8             PT STECHOQ ROBOTIKA INDONESIA\n",
              "9                    Terra Weather Pte. Ltd\n",
              "10               PT Orbit Ventura Indonesia\n",
              "11                  PT Ruang Raya Indonesia\n",
              "12             PT Nurul Fikri Cipta Inovasi\n",
              "Name: Mitra, dtype: object"
            ]
          },
          "metadata": {},
          "execution_count": 15
        }
      ],
      "source": [
        "# Set index utama di kolom 'name'\n",
        "indices = pd.Series(df.index)\n",
        "indices[:50]"
      ]
    },
    {
      "cell_type": "markdown",
      "metadata": {
        "id": "4hngFjil32b2"
      },
      "source": [
        "## 6. Modelling"
      ]
    },
    {
      "cell_type": "code",
      "execution_count": null,
      "metadata": {
        "id": "V2KxEf2h32b3"
      },
      "outputs": [],
      "source": [
        "def recommendations(name, cos_sim = cos_sim):\n",
        "    \n",
        "    recommended_modul = []\n",
        "    \n",
        "    # Mengambil nama modul berdasarkan variabel indicies\n",
        "    idx = indices[indices == name].index[0]\n",
        "\n",
        "    # Membuat series berdasarkan skor kesamaan\n",
        "    score_series = pd.Series(cos_sim[idx]).sort_values(ascending = False)\n",
        "\n",
        "    # mengambil index dan dibuat 3 baris rekomendasi terbaik\n",
        "    top_10_indexes = list(score_series.iloc[1:4].index)\n",
        "    \n",
        "    for i in top_10_indexes:\n",
        "        recommended_modul.append(list(df.index)[i])\n",
        "        \n",
        "    return recommended_modul"
      ]
    },
    {
      "cell_type": "markdown",
      "metadata": {
        "scrolled": false,
        "id": "vCunHa1o32b7"
      },
      "source": [
        "## 7. Prediksi"
      ]
    },
    {
      "cell_type": "code",
      "execution_count": null,
      "metadata": {
        "id": "zgkrZYge32b9",
        "outputId": "8d3abfcf-db8d-4361-def1-b5ed074098e9",
        "colab": {
          "base_uri": "https://localhost:8080/"
        }
      },
      "outputs": [
        {
          "output_type": "execute_result",
          "data": {
            "text/plain": [
              "['PT Ruang Raya Indonesia',\n",
              " 'PT Orbit Ventura Indonesia',\n",
              " 'PT Nurul Fikri Cipta Inovasi']"
            ]
          },
          "metadata": {},
          "execution_count": 17
        }
      ],
      "source": [
        "recommendations('Dwi Rahma Firmansyah')"
      ]
    },
    {
      "cell_type": "code",
      "execution_count": null,
      "metadata": {
        "id": "KcqcvLMX32b-",
        "outputId": "6107f66b-492d-4562-eb54-93018e8bb000",
        "colab": {
          "base_uri": "https://localhost:8080/"
        }
      },
      "outputs": [
        {
          "output_type": "execute_result",
          "data": {
            "text/plain": [
              "['Dwi Rahma Firmansyah',\n",
              " 'PT Semesta Integrasi Digital',\n",
              " 'PT Nurul Fikri Cipta Inovasi']"
            ]
          },
          "metadata": {},
          "execution_count": 18
        }
      ],
      "source": [
        "recommendations(\"PT Ruang Raya Indonesia\")"
      ]
    },
    {
      "cell_type": "code",
      "execution_count": null,
      "metadata": {
        "id": "V_8Lf3nn32cQ",
        "outputId": "5f7d6978-5fa4-4419-8957-810fe8b09845",
        "colab": {
          "base_uri": "https://localhost:8080/"
        }
      },
      "outputs": [
        {
          "output_type": "execute_result",
          "data": {
            "text/plain": [
              "['PT Sembilan Matahari',\n",
              " 'PT Baracipta Esa Engineering',\n",
              " 'Dwi Rahma Firmansyah']"
            ]
          },
          "metadata": {},
          "execution_count": 19
        }
      ],
      "source": [
        "recommendations(\"PT Abbauf Mulia Konsultan Teknologi\")"
      ]
    }
  ],
  "metadata": {
    "kernelspec": {
      "display_name": "Python 3",
      "language": "python",
      "name": "python3"
    },
    "language_info": {
      "codemirror_mode": {
        "name": "ipython",
        "version": 3
      },
      "file_extension": ".py",
      "mimetype": "text/x-python",
      "name": "python",
      "nbconvert_exporter": "python",
      "pygments_lexer": "ipython3",
      "version": "3.7.3"
    },
    "colab": {
      "provenance": [],
      "include_colab_link": true
    }
  },
  "nbformat": 4,
  "nbformat_minor": 0
}